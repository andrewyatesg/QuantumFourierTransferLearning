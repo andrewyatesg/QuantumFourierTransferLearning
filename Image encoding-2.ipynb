{
 "cells": [
  {
   "cell_type": "code",
   "execution_count": null,
   "id": "separated-dutch",
   "metadata": {
    "scrolled": true
   },
   "outputs": [],
   "source": [
    "%matplotlib inline\n",
    "# Importing standard Qiskit libraries\n",
    "from qiskit import QuantumCircuit, execute, Aer, IBMQ\n",
    "from qiskit.compiler import transpile, assemble\n",
    "from qiskit.tools.jupyter import *\n",
    "from qiskit.visualization import *\n",
    "from ibm_quantum_widgets import *\n",
    "\n",
    "# Loading your IBM Q account(s)\n",
    "provider = IBMQ.load_account()"
   ]
  },
  {
   "cell_type": "code",
   "execution_count": null,
   "id": "reserved-discipline",
   "metadata": {},
   "outputs": [],
   "source": [
    "#parameters\n",
    "qubits_num=10 \n",
    "PREPROCESS=True\n",
    "w=32 #image width\n",
    "h=32 #image height\n",
    "batch_size=4 #???"
   ]
  },
  {
   "cell_type": "code",
   "execution_count": null,
   "id": "meaning-polish",
   "metadata": {},
   "outputs": [],
   "source": [
    "import torchvision\n",
    "import torch\n",
    "from torchvision import transforms\n",
    "\n",
    "def load_data():\n",
    "    train=torchvision.datasets.CIFAR10(root='.?data', train=True, download=True,\n",
    "                          transform=transforms.Compose([torchvision.transforms.Grayscale(num_output_channels=1),\n",
    "                                                       transforms.ToTensor()]))\n",
    "    train_loader=torch.utils.data.DataLoader(train, batch_size=batch_size, shuffle=True)\n",
    "    test=torchvision.datasets.CIFAR10(root='./data', train=False, download=True,\n",
    "                        transform=transforms.Compose([torchvision.transforms.Grayscale(num_output_channels=1),\n",
    "                                                      transforms.ToTensor()]))\n",
    "    test_loader = torch.utils.data.DataLoader(test, batch_size=1, shuffle=True)\n",
    "    return train,test"
   ]
  },
  {
   "cell_type": "code",
   "execution_count": null,
   "id": "catholic-calvin",
   "metadata": {},
   "outputs": [],
   "source": [
    "import pennylane as qml\n",
    "from pennylane.templates.embeddings import AmplitudeEmbedding\n",
    "from pennylane import numpy as np\n",
    "from PIL import Image\n",
    "import numpy as np\n",
    "dev=qml.device(\"default.qubit\",wires=10)\n",
    "\n",
    "def convert_pixels_to_qubits(image):\n",
    "    #convert to array of shape \"(2**n)\"\n",
    "    print('before',image)\n",
    "    im=image[0].squeeze().tolist()   \n",
    "    #im=np.array(im)\n",
    "    im=np.reshape(im,32*32*1)\n",
    "    print('after',im)\n",
    "    #using pennylane Amplitude Embedding\n",
    "    AmplitudeEmbedding(im,wires=range(10),pad=0.,normalize=True)"
   ]
  },
  {
   "cell_type": "code",
   "execution_count": null,
   "id": "elder-breach",
   "metadata": {},
   "outputs": [],
   "source": [
    "#Pre-processing the dataset\n",
    "if PREPROCESS==True:\n",
    "    train,test=load_data()\n",
    "    qtrain=[]\n",
    "    print(\"Start Quantum pre-processing of the train dataset\")\n",
    "    for i, item in enumerate(train):\n",
    "        print(\"{}/{}        \".format(i + 1, len(train)), end=\"\\r\")\n",
    "        convert_pixels_to_qubits(item)\n",
    "        qtrain.append(dev.state)\n",
    "    qtrain=np.asarray(qtrain)\n",
    "    print(\"Finish Quantum pre-prcessing of the train dataset\")\n",
    "    \n",
    "    qtest=[]\n",
    "    print(\"Start Quantum pre-prcessing of the test dataset\")\n",
    "    for i, item in enumerate(test):\n",
    "        print(\"{}/{}        \".format(i + 1, len(test)), end=\"\\r\")\n",
    "        convert_pixels_to_qubits(item)\n",
    "        #qtest.append(dev.state)\n",
    "    qtest=np.asarray(qtest)\n",
    "    print(\"Finish Quantum pre-prcessing of the test dataset\")"
   ]
  },
  {
   "cell_type": "code",
   "execution_count": null,
   "id": "olive-hygiene",
   "metadata": {},
   "outputs": [],
   "source": [
    "#check\n",
    "print('qtrain',qtrain)"
   ]
  },
  {
   "cell_type": "code",
   "execution_count": null,
   "id": "amateur-alarm",
   "metadata": {},
   "outputs": [],
   "source": []
  }
 ],
 "metadata": {
  "kernelspec": {
   "display_name": "Python 3",
   "language": "python",
   "name": "python3"
  },
  "language_info": {
   "codemirror_mode": {
    "name": "ipython",
    "version": 3
   },
   "file_extension": ".py",
   "mimetype": "text/x-python",
   "name": "python",
   "nbconvert_exporter": "python",
   "pygments_lexer": "ipython3",
   "version": "3.8.3"
  }
 },
 "nbformat": 4,
 "nbformat_minor": 5
}
