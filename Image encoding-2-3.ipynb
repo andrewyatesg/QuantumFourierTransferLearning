{
 "cells": [
  {
   "cell_type": "code",
   "execution_count": 1,
   "id": "separated-dutch",
   "metadata": {
    "scrolled": true
   },
   "outputs": [
    {
     "name": "stderr",
     "output_type": "stream",
     "text": [
      "/opt/conda/lib/python3.8/site-packages/qiskit/providers/ibmq/ibmqfactory.py:192: UserWarning: Timestamps in IBMQ backend properties, jobs, and job results are all now in local time instead of UTC.\n",
      "  warnings.warn('Timestamps in IBMQ backend properties, jobs, and job results '\n"
     ]
    }
   ],
   "source": [
    "%matplotlib inline\n",
    "# Importing standard Qiskit libraries\n",
    "from qiskit import QuantumCircuit, execute, Aer, IBMQ\n",
    "from qiskit.compiler import transpile, assemble\n",
    "from qiskit.tools.jupyter import *\n",
    "from qiskit.visualization import *\n",
    "from ibm_quantum_widgets import *\n",
    "\n",
    "# Loading your IBM Q account(s)\n",
    "provider = IBMQ.load_account()"
   ]
  },
  {
   "cell_type": "code",
   "execution_count": 2,
   "id": "reserved-discipline",
   "metadata": {},
   "outputs": [],
   "source": [
    "#parameters\n",
    "qubits_num=10 \n",
    "PREPROCESS=True\n",
    "w=32 #image width\n",
    "h=32 #image height\n",
    "batch_size=4 #???"
   ]
  },
  {
   "cell_type": "code",
   "execution_count": 3,
   "id": "meaning-polish",
   "metadata": {},
   "outputs": [],
   "source": [
    "import torchvision\n",
    "import torch\n",
    "from torchvision import transforms\n",
    "import numpy as np\n",
    "\n",
    "def load_data():\n",
    "    train=torchvision.datasets.CIFAR10(root='./data', train=True, download=True,\n",
    "                          transform=transforms.Compose([torchvision.transforms.Grayscale(num_output_channels=1),\n",
    "                                                       transforms.ToTensor()]))\n",
    "    train_loader=torch.utils.data.DataLoader(train, batch_size=batch_size, shuffle=True)\n",
    "    test=torchvision.datasets.CIFAR10(root='./data', train=False, download=True,\n",
    "                        transform=transforms.Compose([torchvision.transforms.Grayscale(num_output_channels=1),\n",
    "                                                      transforms.ToTensor()]))\n",
    "    test_loader = torch.utils.data.DataLoader(test, batch_size=1, shuffle=True)\n",
    "    classes = ('plane', 'car', 'bird', 'cat',\n",
    "           'deer', 'dog', 'frog', 'horse', 'ship', 'truck')\n",
    "    return train,test\n",
    "\n"
   ]
  },
  {
   "cell_type": "code",
   "execution_count": 4,
   "id": "virtual-restoration",
   "metadata": {},
   "outputs": [],
   "source": [
    "def getY1Y2(train,test):\n",
    "    Y1,Y2=[],[]\n",
    "    car_ind,truck_ind=train.class_to_idx['cat'],train.class_to_idx['dog']\n",
    "    for i in range(len(train)):\n",
    "        cclass=train[i][1]\n",
    "        if cclass==car_ind:\n",
    "            Y1.append(1)        \n",
    "        else:\n",
    "            Y1.append(-1)\n",
    "    for i in range(len(train)):\n",
    "        cclass=train[i][1]\n",
    "        if cclass==truck_ind:\n",
    "            Y2.append(1)\n",
    "        else:\n",
    "            Y2.append(-1)        \n",
    "    Y1=np.asarray(Y1)\n",
    "    Y2=np.asarray(Y2)\n",
    "    return Y1,Y2 "
   ]
  },
  {
   "cell_type": "code",
   "execution_count": 8,
   "id": "catholic-calvin",
   "metadata": {},
   "outputs": [],
   "source": [
    "import pennylane as qml\n",
    "from pennylane.templates.embeddings import AmplitudeEmbedding\n",
    "#from pennylane import numpy as np\n",
    "from PIL import Image\n",
    "\n",
    "dev=qml.device(\"default.qubit\",wires=10)\n",
    "@qml.qnode(dev)\n",
    "def convert_pixels_to_qubits(image):\n",
    "    #convert to array of shape \"(2**n)\"\n",
    "    #print(\"before\",image)\n",
    "    im=image[0].squeeze().tolist()   \n",
    "    #im=np.array(im)\n",
    "    im=np.reshape(im,32*32*1)\n",
    "    #print(\"after\",im)\n",
    "    #using pennylane Amplitude Embedding\n",
    "    AmplitudeEmbedding(im,wires=range(10),pad=0.,normalize=True)\n",
    "    return qml.expval(qml.PauliZ(wires=0))"
   ]
  },
  {
   "cell_type": "code",
   "execution_count": 9,
   "id": "massive-southwest",
   "metadata": {},
   "outputs": [
    {
     "name": "stdout",
     "output_type": "stream",
     "text": [
      "Files already downloaded and verified\n",
      "Files already downloaded and verified\n",
      "Start Quantum pre-processing of the train dataset\n",
      "Finish Quantum pre-prcessing of the train dataset\n",
      "Start Quantum pre-prcessing of the test dataset\n",
      "Finish Quantum pre-prcessing of the test dataset\n"
     ]
    }
   ],
   "source": [
    "#Pre-processing the dataset\n",
    "if PREPROCESS==True:\n",
    "    train,test=load_data()\n",
    "    qtrain=[]\n",
    "    print(\"Start Quantum pre-processing of the train dataset\")\n",
    "    for i, item in enumerate(train):\n",
    "        print(\"{}/{}        \".format(i + 1, len(train)), end=\"\\r\")\n",
    "        convert_pixels_to_qubits(item)\n",
    "        qtrain.append(dev.state)\n",
    "    qtrain=np.asarray(qtrain)\n",
    "    print(\"Finish Quantum pre-prcessing of the train dataset\")\n",
    "    \n",
    "    qtest=[]\n",
    "    print(\"Start Quantum pre-prcessing of the test dataset\")\n",
    "    for i, item in enumerate(test):\n",
    "        print(\"{}/{}        \".format(i + 1, len(test)), end=\"\\r\")\n",
    "        convert_pixels_to_qubits(item)\n",
    "        #qtest.append(dev.state)\n",
    "    qtest=np.asarray(qtest)\n",
    "    print(\"Finish Quantum pre-prcessing of the test dataset\")"
   ]
  },
  {
   "cell_type": "code",
   "execution_count": 50,
   "id": "elder-breach",
   "metadata": {},
   "outputs": [
    {
     "name": "stdout",
     "output_type": "stream",
     "text": [
      "Files already downloaded and verified\n",
      "Files already downloaded and verified\n",
      "Start Quantum pre-processing of the train dataset\n",
      "before [tensor([[[0.23921569, 0.17647059, 0.1882353 , ..., 0.53725493,\n",
      "           0.50980395, 0.50588238],\n",
      "          [0.07450981, 0.        , 0.03921569, ..., 0.37254903,\n",
      "           0.35294119, 0.36862746],\n",
      "          [0.09411765, 0.03529412, 0.12156863, ..., 0.35294119,\n",
      "           0.35686275, 0.3137255 ],\n",
      "          ...,\n",
      "          [0.67843139, 0.60392159, 0.6156863 , ..., 0.52549022,\n",
      "           0.14117648, 0.14901961],\n",
      "          [0.57254905, 0.50588238, 0.56470591, ..., 0.60000002,\n",
      "           0.27058825, 0.23529412],\n",
      "          [0.59215689, 0.53725493, 0.57647061, ..., 0.74117649,\n",
      "           0.48627451, 0.3882353 ]]], dtype=float32, requires_grad=True)\n",
      " tensor(6, requires_grad=True)]\n",
      "after [0.23921569 0.17647059 0.1882353  ... 0.74117649 0.48627451 0.3882353 ]\n"
     ]
    },
    {
     "name": "stderr",
     "output_type": "stream",
     "text": [
      "/opt/conda/lib/python3.8/site-packages/autograd/numpy/numpy_wrapper.py:77: VisibleDeprecationWarning: Creating an ndarray from ragged nested sequences (which is a list-or-tuple of lists-or-tuples-or ndarrays with different lengths or shapes) is deprecated. If you meant to do this, you must specify 'dtype=object' when creating the ndarray.\n",
      "  return _np.array(args, *array_args, **array_kwargs)\n"
     ]
    },
    {
     "name": "stdout",
     "output_type": "stream",
     "text": [
      "Traceback \u001b[1;36m(most recent call last)\u001b[0m:\n",
      "  File \u001b[0;32m\"<ipython-input-50-a7efb0bd2c65>\"\u001b[0m, line \u001b[0;32m8\u001b[0m, in \u001b[0;35m<module>\u001b[0m\n",
      "    convert_pixels_to_qubits(item)\n",
      "  File \u001b[0;32m\"/opt/conda/lib/python3.8/site-packages/pennylane/tape/qnode.py\"\u001b[0m, line \u001b[0;32m530\u001b[0m, in \u001b[0;35m__call__\u001b[0m\n",
      "    self.construct(args, kwargs)\n",
      "\u001b[1;36m  File \u001b[1;32m\"/opt/conda/lib/python3.8/site-packages/pennylane/tape/qnode.py\"\u001b[1;36m, line \u001b[1;32m477\u001b[1;36m, in \u001b[1;35mconstruct\u001b[1;36m\u001b[0m\n",
      "\u001b[1;33m    raise qml.QuantumFunctionError(\u001b[0m\n",
      "\u001b[1;31mQuantumFunctionError\u001b[0m\u001b[1;31m:\u001b[0m A quantum function must return either a single measurement, or a nonempty sequence of measurements.\n",
      "\n",
      "Use %tb to get the full traceback.\n"
     ]
    },
    {
     "data": {
      "text/html": [
       "\n",
       "<style>\n",
       ".button {\n",
       "  border: none;\n",
       "  color: white;\n",
       "  padding: 4px 8px;\n",
       "  text-align: center;\n",
       "  text-decoration: none;\n",
       "  display: inline-block;\n",
       "  font-size: 12px;\n",
       "  margin: 4px 2px;\n",
       "  transition-duration: 0.2s;\n",
       "  cursor: pointer;\n",
       "}\n",
       ".iqx-button {\n",
       "  background-color: #0f62fe; \n",
       "  color: white; \n",
       "}\n",
       ".iqx-button:hover {\n",
       "  background-color: #0043ce;\n",
       "  color: white;\n",
       "}\n",
       "</style>\n",
       "<a href=\"https://stackoverflow.com/search?q=QuantumFunctionError: A quantum function must return either a single measurement, or a nonempty sequence of measurements.\" target='_blank'><button class='button iqx-button'>Search for solution online</button></a>\n"
      ],
      "text/plain": [
       "<IPython.core.display.HTML object>"
      ]
     },
     "metadata": {},
     "output_type": "display_data"
    }
   ],
   "source": [
    "#Pre-processing the dataset\n",
    "if PREPROCESS==True:\n",
    "    train,test=load_data()\n",
    "    qtrain=[]\n",
    "    print(\"Start Quantum pre-processing of the train dataset\")\n",
    "    for i, item in enumerate(train):\n",
    "        print(\"{}/{}        \".format(i + 1, len(train)), end=\"\\r\")\n",
    "        convert_pixels_to_qubits(item)\n",
    "        qtrain.append(dev.state)\n",
    "    qtrain=np.asarray(qtrain)\n",
    "    print(\"Finish Quantum pre-prcessing of the train dataset\")\n",
    "    \n",
    "    qtest=[]\n",
    "    print(\"Start Quantum pre-prcessing of the test dataset\")\n",
    "    for i, item in enumerate(test):\n",
    "        print(\"{}/{}        \".format(i + 1, len(test)), end=\"\\r\")\n",
    "        convert_pixels_to_qubits(item)\n",
    "        #qtest.append(dev.state)\n",
    "    qtest=np.asarray(qtest)\n",
    "    print(\"Finish Quantum pre-prcessing of the test dataset\")"
   ]
  },
  {
   "cell_type": "code",
   "execution_count": 10,
   "id": "olive-hygiene",
   "metadata": {},
   "outputs": [
    {
     "name": "stdout",
     "output_type": "stream",
     "text": [
      "qtrain [[0.01608674+0.j 0.01186727+0.j 0.01265842+0.j ... 0.04984251+0.j\n",
      "  0.03270091+0.j 0.02610798+0.j]\n",
      " [0.03724749+0.j 0.0291881 +0.j 0.02243562+0.j ... 0.02984156+0.j\n",
      "  0.03005938+0.j 0.02984156+0.j]\n",
      " [0.05054429+0.j 0.05014787+0.j 0.05014787+0.j ... 0.01645167+0.j\n",
      "  0.01645167+0.j 0.01664989+0.j]\n",
      " ...\n",
      " [0.03566274+0.j 0.03591388+0.j 0.03591388+0.j ... 0.01180386+0.j\n",
      "  0.00979469+0.j 0.00678094+0.j]\n",
      " [0.03681706+0.j 0.03628605+0.j 0.03610904+0.j ... 0.03292295+0.j\n",
      "  0.03345397+0.j 0.03345397+0.j]\n",
      " [0.05009625+0.j 0.05183872+0.j 0.05162091+0.j ... 0.03855233+0.j\n",
      "  0.0357208 +0.j 0.03550299+0.j]]\n"
     ]
    }
   ],
   "source": [
    "#check\n",
    "print('qtrain',qtrain)"
   ]
  },
  {
   "cell_type": "code",
   "execution_count": 11,
   "id": "amateur-alarm",
   "metadata": {},
   "outputs": [],
   "source": [
    "Y1,Y2=getY1Y2(train,test)"
   ]
  },
  {
   "cell_type": "code",
   "execution_count": null,
   "id": "aging-senator",
   "metadata": {},
   "outputs": [],
   "source": []
  }
 ],
 "metadata": {
  "kernelspec": {
   "display_name": "Python 3",
   "language": "python",
   "name": "python3"
  },
  "language_info": {
   "codemirror_mode": {
    "name": "ipython",
    "version": 3
   },
   "file_extension": ".py",
   "mimetype": "text/x-python",
   "name": "python",
   "nbconvert_exporter": "python",
   "pygments_lexer": "ipython3",
   "version": "3.8.6"
  }
 },
 "nbformat": 4,
 "nbformat_minor": 5
}
